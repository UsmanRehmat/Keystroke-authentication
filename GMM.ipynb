{
 "cells": [
  {
   "cell_type": "code",
   "execution_count": 2,
   "metadata": {},
   "outputs": [],
   "source": [
    "import os\n",
    "import numpy as np\n",
    "from sklearn import mixture\n",
    "import pandas as pd\n",
    "import re"
   ]
  },
  {
   "cell_type": "code",
   "execution_count": 3,
   "metadata": {},
   "outputs": [],
   "source": [
    "#change path\n",
    "path=\"..\\\\UB_keystroke_dataset\\\\S0\""
   ]
  },
  {
   "cell_type": "code",
   "execution_count": 4,
   "metadata": {},
   "outputs": [],
   "source": [
    "def ReadListOfTextFilesFromDirectoryWalk(path):\n",
    "    \"\"\"Read all text files from given directory and its sudirectories and return list of text files path\"\"\"\n",
    "    files = []\n",
    "    # r=root, d=directories, f = files\n",
    "    for r, d, f in os.walk(path):\n",
    "        for file in f:\n",
    "            if '.txt' in file:\n",
    "                files.append(os.path.join(r, file))\n",
    "    return files\n",
    "\n"
   ]
  },
  {
   "cell_type": "code",
   "execution_count": 5,
   "metadata": {},
   "outputs": [
    {
     "name": "stdout",
     "output_type": "stream",
     "text": [
      "[]\n"
     ]
    }
   ],
   "source": [
    "files=ReadListOfTextFilesFromDirectoryWalk(path)\n",
    "len(files)\n",
    "print(files[0:1])"
   ]
  },
  {
   "cell_type": "code",
   "execution_count": 6,
   "metadata": {
    "scrolled": false
   },
   "outputs": [],
   "source": [
    "def CreateListOfTuplesFromFile(files):\n",
    "#Reading file and create tuple \n",
    "    items = []\n",
    "    for file in files:\n",
    "        filename=file.split('\\\\')[-1].split('.')[0]\n",
    "        f=open(file, \"r\")\n",
    "        for line in f:\n",
    "            words= line.rstrip('\\n').split(sep=\" \")\n",
    "            items.append((words[0],words[1],words[2],filename))\n",
    "    return items\n"
   ]
  },
  {
   "cell_type": "code",
   "execution_count": 7,
   "metadata": {},
   "outputs": [
    {
     "data": {
      "text/plain": [
       "[]"
      ]
     },
     "execution_count": 7,
     "metadata": {},
     "output_type": "execute_result"
    }
   ],
   "source": [
    "items=CreateListOfTuplesFromFile(files[0:2])\n",
    "items"
   ]
  },
  {
   "cell_type": "code",
   "execution_count": 8,
   "metadata": {},
   "outputs": [],
   "source": [
    "#Creating dataframes\n",
    "def CreateDataFrame(items,columns):\n",
    "    df = pd.DataFrame.from_records(items, columns=['Key', 'EventType','Time','User'])\n",
    "    return df"
   ]
  },
  {
   "cell_type": "code",
   "execution_count": 9,
   "metadata": {},
   "outputs": [
    {
     "name": "stdout",
     "output_type": "stream",
     "text": [
      "(0, 4)\n"
     ]
    },
    {
     "data": {
      "text/html": [
       "<div>\n",
       "<style scoped>\n",
       "    .dataframe tbody tr th:only-of-type {\n",
       "        vertical-align: middle;\n",
       "    }\n",
       "\n",
       "    .dataframe tbody tr th {\n",
       "        vertical-align: top;\n",
       "    }\n",
       "\n",
       "    .dataframe thead th {\n",
       "        text-align: right;\n",
       "    }\n",
       "</style>\n",
       "<table border=\"1\" class=\"dataframe\">\n",
       "  <thead>\n",
       "    <tr style=\"text-align: right;\">\n",
       "      <th></th>\n",
       "      <th>Key</th>\n",
       "      <th>EventType</th>\n",
       "      <th>Time</th>\n",
       "      <th>User</th>\n",
       "    </tr>\n",
       "  </thead>\n",
       "  <tbody>\n",
       "  </tbody>\n",
       "</table>\n",
       "</div>"
      ],
      "text/plain": [
       "Empty DataFrame\n",
       "Columns: [Key, EventType, Time, User]\n",
       "Index: []"
      ]
     },
     "execution_count": 9,
     "metadata": {},
     "output_type": "execute_result"
    }
   ],
   "source": [
    "df=CreateDataFrame(items,columns=['Key', 'EventType','Time','User'])\n",
    "print (df.shape)\n",
    "#\n",
    "df.head(10)"
   ]
  },
  {
   "cell_type": "code",
   "execution_count": 10,
   "metadata": {},
   "outputs": [],
   "source": [
    "def ParseAlphabetsKeys(df):\n",
    "    \"\"\"Return only alphabets records\"\"\"\n",
    "    dfAlphabets=df[df[\"Key\"].str.match('^.*[A-Z]$')]\n",
    "    return dfAlphabets"
   ]
  },
  {
   "cell_type": "code",
   "execution_count": 11,
   "metadata": {},
   "outputs": [
    {
     "data": {
      "text/plain": [
       "Series([], dtype: float64)"
      ]
     },
     "execution_count": 11,
     "metadata": {},
     "output_type": "execute_result"
    }
   ],
   "source": [
    "temp=ParseAlphabetsKeys(df)\n",
    "temp.groupby(\"Key\").size()/2"
   ]
  },
  {
   "cell_type": "code",
   "execution_count": 12,
   "metadata": {},
   "outputs": [
    {
     "data": {
      "text/html": [
       "<div>\n",
       "<style scoped>\n",
       "    .dataframe tbody tr th:only-of-type {\n",
       "        vertical-align: middle;\n",
       "    }\n",
       "\n",
       "    .dataframe tbody tr th {\n",
       "        vertical-align: top;\n",
       "    }\n",
       "\n",
       "    .dataframe thead th {\n",
       "        text-align: right;\n",
       "    }\n",
       "</style>\n",
       "<table border=\"1\" class=\"dataframe\">\n",
       "  <thead>\n",
       "    <tr style=\"text-align: right;\">\n",
       "      <th></th>\n",
       "      <th>Key</th>\n",
       "      <th>EventType</th>\n",
       "      <th>Time</th>\n",
       "      <th>User</th>\n",
       "    </tr>\n",
       "  </thead>\n",
       "  <tbody>\n",
       "  </tbody>\n",
       "</table>\n",
       "</div>"
      ],
      "text/plain": [
       "Empty DataFrame\n",
       "Columns: [Key, EventType, Time, User]\n",
       "Index: []"
      ]
     },
     "execution_count": 12,
     "metadata": {},
     "output_type": "execute_result"
    }
   ],
   "source": [
    "temp"
   ]
  },
  {
   "cell_type": "code",
   "execution_count": 13,
   "metadata": {},
   "outputs": [],
   "source": [
    "def GetTimeDifferenceofKeyDownDown(data):\n",
    "    prev=0\n",
    "    rows=[]\n",
    "    for index,row in data.iterrows():\n",
    "        if prev==0 and row[1]==\"KeyDown\":\n",
    "            prevRow=row\n",
    "            prev=1\n",
    "        elif row[1]==\"KeyDown\":\n",
    "            rows.append([ prevRow[0], row[0], int(row[2])- int(prevRow[2]),row[3]])\n",
    "            prevRow=row\n",
    "    return rows"
   ]
  },
  {
   "cell_type": "code",
   "execution_count": 14,
   "metadata": {},
   "outputs": [
    {
     "data": {
      "text/plain": [
       "[]"
      ]
     },
     "execution_count": 14,
     "metadata": {},
     "output_type": "execute_result"
    }
   ],
   "source": [
    "keyDownDownTimeDifference=GetTimeDifferenceofKeyDownDown(data=temp)\n",
    "keyDownDownTimeDifference\n"
   ]
  },
  {
   "cell_type": "code",
   "execution_count": null,
   "metadata": {},
   "outputs": [],
   "source": []
  },
  {
   "cell_type": "code",
   "execution_count": 15,
   "metadata": {},
   "outputs": [],
   "source": [
    "def GetDictionaryOfFeatureVectors(keyDownDownTimeDifference):\n",
    "    \"\"\"\n",
    "    Take List of arrays and return dictionary of 26*26 vector for each user\n",
    "    \"\"\"\n",
    "    dictFV=dict()\n",
    "    for xi in keyDownDownTimeDifference:\n",
    "        if xi[3] not in dictFV:\n",
    "            dictFV[xi[3]]=np.zeros(26*26,dtype=object)\n",
    "            \n",
    "        index=(ord(xi[0])-65)*26+np.absolute(ord(xi[1])-65)\n",
    "        if dictFV[xi[3]][index]==0:\n",
    "            dictFV[xi[3]][index]=[]\n",
    "        dictFV[xi[3]][index].append(xi[2])\n",
    "    return dictFV\n"
   ]
  },
  {
   "cell_type": "code",
   "execution_count": 16,
   "metadata": {
    "scrolled": true
   },
   "outputs": [
    {
     "ename": "AttributeError",
     "evalue": "'list' object has no attribute 'shape'",
     "output_type": "error",
     "traceback": [
      "\u001b[1;31m---------------------------------------------------------------------------\u001b[0m",
      "\u001b[1;31mAttributeError\u001b[0m                            Traceback (most recent call last)",
      "\u001b[1;32m<ipython-input-16-db8286422864>\u001b[0m in \u001b[0;36m<module>\u001b[1;34m()\u001b[0m\n\u001b[0;32m     40\u001b[0m         \u001b[0mGMMData\u001b[0m\u001b[1;33m=\u001b[0m\u001b[0mnp\u001b[0m\u001b[1;33m.\u001b[0m\u001b[0mappend\u001b[0m\u001b[1;33m(\u001b[0m\u001b[0mGMMData\u001b[0m\u001b[1;33m,\u001b[0m\u001b[0muserData\u001b[0m\u001b[1;33m,\u001b[0m\u001b[0maxis\u001b[0m\u001b[1;33m=\u001b[0m\u001b[1;36m0\u001b[0m\u001b[1;33m)\u001b[0m\u001b[1;33m\u001b[0m\u001b[0m\n\u001b[0;32m     41\u001b[0m \u001b[1;33m\u001b[0m\u001b[0m\n\u001b[1;32m---> 42\u001b[1;33m \u001b[0mprint\u001b[0m\u001b[1;33m(\u001b[0m\u001b[0mGMMData\u001b[0m\u001b[1;33m.\u001b[0m\u001b[0mshape\u001b[0m\u001b[1;33m)\u001b[0m\u001b[1;33m\u001b[0m\u001b[0m\n\u001b[0m",
      "\u001b[1;31mAttributeError\u001b[0m: 'list' object has no attribute 'shape'"
     ]
    }
   ],
   "source": [
    "FeatureVectors=GetDictionaryOfFeatureVectors(keyDownDownTimeDifference) \n",
    "usersFV=pd.DataFrame.from_dict(FeatureVectors)\n",
    "GMMData=[]\n",
    "for user in usersFV.columns:\n",
    "    maxLength=0\n",
    "    for userF in usersFV[user]:\n",
    "        if userF==0:\n",
    "            userF=[]\n",
    "        featureLenght=len(userF)\n",
    "        if featureLenght > maxLength:\n",
    "            maxLength=featureLenght\n",
    "    userDF=pd.DataFrame(index=range(0,676))\n",
    "    userData=np.zeros((maxLength,676))\n",
    "    row=0\n",
    "    for userF in usersFV[user]:\n",
    "        column=0\n",
    "        if userF==0:\n",
    "            userF=[]\n",
    "        availableValuesCount=len(userF)\n",
    "        sum=0\n",
    "        for value in userF:\n",
    "            userData[column][row]=value\n",
    "            column=column+1\n",
    "            sum=sum+value\n",
    "        if availableValuesCount==0:\n",
    "            mean=0\n",
    "        else:\n",
    "            mean=sum/availableValuesCount\n",
    "        gussianValues=np.random.normal(mean,3,maxLength-availableValuesCount)\n",
    "        for value in gussianValues:\n",
    "            \n",
    "            userData[column][row]=value\n",
    "            column=column+1\n",
    "        \n",
    "        row=row+1\n",
    "    print(userData.shape)\n",
    "    if len(GMMData)==0:\n",
    "        GMMData=userData\n",
    "    else:\n",
    "        GMMData=np.append(GMMData,userData,axis=0)\n",
    "\n",
    "print(GMMData.shape)"
   ]
  },
  {
   "cell_type": "code",
   "execution_count": null,
   "metadata": {},
   "outputs": [],
   "source": [
    "x1='Z'\n",
    "x2='Z'\n",
    "(ord(x1)-65)*26+np.absolute(ord(x2)-65)\n"
   ]
  },
  {
   "cell_type": "code",
   "execution_count": null,
   "metadata": {},
   "outputs": [],
   "source": [
    "x1='Z'\n",
    "x2='Z'\n",
    "(ord(x1)-65)*26+np.absolute(ord(x2)-65)\n"
   ]
  },
  {
   "cell_type": "code",
   "execution_count": null,
   "metadata": {},
   "outputs": [],
   "source": [
    "def GetGMMFormatDataFromDataFrame(usersFV):\n",
    "    GMMData=[]\n",
    "    for user in usersFV.columns:\n",
    "        maxLength=0\n",
    "        for userF in usersFV[user]:\n",
    "            if userF==0:\n",
    "                userF=[]\n",
    "            featureLenght=len(userF)\n",
    "            if featureLenght > maxLength:\n",
    "                maxLength=featureLenght\n",
    "        userDF=pd.DataFrame(index=range(0,676))\n",
    "        userData=np.zeros((maxLength,676))\n",
    "        row=0\n",
    "        for userF in usersFV[user]:\n",
    "            column=0\n",
    "            if userF==0:\n",
    "                userF=[]\n",
    "            availableValuesCount=len(userF)\n",
    "            sum=0\n",
    "            for value in userF:\n",
    "                userData[column][row]=value\n",
    "                column=column+1\n",
    "                sum=sum+value\n",
    "            if availableValuesCount==0:\n",
    "                mean=0\n",
    "            else:\n",
    "                mean=sum/availableValuesCount\n",
    "            gussianValues=np.random.normal(mean,3,maxLength-availableValuesCount)\n",
    "            for value in gussianValues:\n",
    "            \n",
    "                userData[column][row]=value\n",
    "                column=column+1\n",
    "        \n",
    "            row=row+1\n",
    "        print(userData.shape)\n",
    "        if len(GMMData)==0:\n",
    "            GMMData=userData\n",
    "        else:\n",
    "            GMMData=np.append(GMMData,userData,axis=0)\n",
    "    return GMMData\n"
   ]
  },
  {
   "cell_type": "code",
   "execution_count": null,
   "metadata": {},
   "outputs": [],
   "source": [
    "data= GetGMMFormatDataFromDataFrame(usersFV)"
   ]
  },
  {
   "cell_type": "code",
   "execution_count": null,
   "metadata": {},
   "outputs": [],
   "source": [
    "def GetAverageFeatureVectors(FeatureVectors):\n",
    "    \n",
    "    averageFV= np.zeros(26*26,dtype=object)\n",
    "    index=0\n",
    "    for xi in FeatureVectors:\n",
    "        tempSum=np.array(xi).sum()\n",
    "        if type(xi)== list:\n",
    "            averageFV[index]=tempSum/len(xi)\n",
    "        index=index+1\n",
    "    return averageFV"
   ]
  },
  {
   "cell_type": "code",
   "execution_count": null,
   "metadata": {},
   "outputs": [],
   "source": [
    "for user in FeatureVectors:\n",
    "    GetAverageFeatureVectors(FeatureVectors[user])"
   ]
  },
  {
   "cell_type": "code",
   "execution_count": null,
   "metadata": {},
   "outputs": [],
   "source": [
    "testPath='..\\\\UB_keystroke_dataset\\\\UB_keystroke_dataset\\\\s1\\\\baseline\\\\001000.txt'\n",
    "g = mixture.GMM(n_components=2)\n",
    "g.fit(data)\n",
    "np.round(g.weights_, 2)"
   ]
  },
  {
   "cell_type": "code",
   "execution_count": null,
   "metadata": {},
   "outputs": [],
   "source": [
    "def TrainModel(path):\n",
    "    \"\"\"Get path of data files and train a GMM model\"\"\"\n",
    "    files=ReadListOfTextFilesFromDirectoryWalk(path)\n",
    "    # I am training on first 10 users\n",
    "    dataFileFormat=CreateListOfTuplesFromFile(files[0:10])\n",
    "    df=CreateDataFrame(dataFileFormat,columns=['Key', 'EventType','Time','User'])\n",
    "    alphabetsDF=ParseAlphabetsKeys(df)\n",
    "    keyDownDownTimeDifference=GetTimeDifferenceofKeyDownDown(data=temp)\n",
    "    FeatureVectors=GetDictionaryOfFeatureVectors(keyDownDownTimeDifference) \n",
    "    usersFV=pd.DataFrame.from_dict(FeatureVectors)\n",
    "    data= GetGMMFormatDataFromDataFrame(usersFV)\n",
    "    g = mixture.GMM(n_components=2)\n",
    "    g.fit(data)\n",
    "    return g\n",
    "    \n"
   ]
  },
  {
   "cell_type": "code",
   "execution_count": null,
   "metadata": {},
   "outputs": [],
   "source": [
    "GMM= TrainModel(path)"
   ]
  },
  {
   "cell_type": "code",
   "execution_count": null,
   "metadata": {},
   "outputs": [],
   "source": [
    "GMM.weights_"
   ]
  },
  {
   "cell_type": "code",
   "execution_count": null,
   "metadata": {},
   "outputs": [],
   "source": [
    "def TestModel(path)"
   ]
  },
  {
   "cell_type": "code",
   "execution_count": null,
   "metadata": {},
   "outputs": [],
   "source": [
    "if \"abc\" in dic:\n",
    "    print(\"exist\")"
   ]
  },
  {
   "cell_type": "code",
   "execution_count": null,
   "metadata": {},
   "outputs": [],
   "source": []
  }
 ],
 "metadata": {
  "kernelspec": {
   "display_name": "Python 3",
   "language": "python",
   "name": "python3"
  },
  "language_info": {
   "codemirror_mode": {
    "name": "ipython",
    "version": 3
   },
   "file_extension": ".py",
   "mimetype": "text/x-python",
   "name": "python",
   "nbconvert_exporter": "python",
   "pygments_lexer": "ipython3",
   "version": "3.6.5"
  }
 },
 "nbformat": 4,
 "nbformat_minor": 2
}
